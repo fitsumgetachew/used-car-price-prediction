{
 "cells": [
  {
   "cell_type": "markdown",
   "id": "a17141d6",
   "metadata": {},
   "source": [
    "\n",
    "# Importing basic library and functions "
   ]
  },
  {
   "cell_type": "code",
   "execution_count": null,
   "id": "b1af3161",
   "metadata": {},
   "outputs": [],
   "source": [
    "import pandas as pd\n",
    "import numpy as np\n",
    "from matplotlib import pyplot as plt\n",
    "import seaborn as sns"
   ]
  },
  {
   "cell_type": "markdown",
   "id": "4dd3ba67",
   "metadata": {},
   "source": [
    "upload our file"
   ]
  },
  {
   "cell_type": "code",
   "execution_count": null,
   "id": "c5fe185d",
   "metadata": {},
   "outputs": [],
   "source": [
    "df = pd.read_csv(\"car data.csv\", index_col = None)\n",
    "df.head()"
   ]
  },
  {
   "cell_type": "code",
   "execution_count": null,
   "id": "378c5261",
   "metadata": {},
   "outputs": [],
   "source": []
  },
  {
   "cell_type": "markdown",
   "id": "cb8ccd62",
   "metadata": {},
   "source": [
    "visualize null values"
   ]
  },
  {
   "cell_type": "code",
   "execution_count": null,
   "id": "2a7aaf17",
   "metadata": {},
   "outputs": [],
   "source": [
    "ax=plt.axes()\n",
    "ax.set_facecolor('grey')\n",
    "plt.bar(df.columns , df.isnull().sum())\n",
    "plt.xticks(rotation=90)\n",
    "\n",
    "plt.show()"
   ]
  },
  {
   "cell_type": "code",
   "execution_count": null,
   "id": "1a1ba4d6",
   "metadata": {},
   "outputs": [],
   "source": [
    "#as shown on above graph we don't null vales \n",
    "#let drop unnecessary columns\n",
    "df=df.drop(labels=['Car_Name'] , axis=1)\n"
   ]
  },
  {
   "cell_type": "code",
   "execution_count": null,
   "id": "48dcee93",
   "metadata": {},
   "outputs": [],
   "source": [
    "#now we will check unique values of our categorical columns\n",
    "columns=['Fuel_Type' , 'Seller_Type' , \"Transmission\"]\n",
    "\n",
    "for col in columns:\n",
    "    print(col)\n",
    "    print(df[col].unique())"
   ]
  },
  {
   "cell_type": "code",
   "execution_count": null,
   "id": "98cb4a2b",
   "metadata": {},
   "outputs": [],
   "source": [
    "#change categorical values to numerical representation\n",
    "\n",
    "df=pd.get_dummies(df , columns=columns)"
   ]
  },
  {
   "cell_type": "code",
   "execution_count": null,
   "id": "36731d77",
   "metadata": {},
   "outputs": [],
   "source": [
    "df.head()"
   ]
  },
  {
   "cell_type": "code",
   "execution_count": null,
   "id": "59585a17",
   "metadata": {},
   "outputs": [],
   "source": [
    "#create new column for number of years cars are used\n",
    "df['used_years']=2022-df['Year']\n",
    "df=df.drop(labels='Year' , axis=1)\n",
    "df.head()"
   ]
  },
  {
   "cell_type": "code",
   "execution_count": null,
   "id": "d11c3347",
   "metadata": {},
   "outputs": [],
   "source": [
    "#visualizing correlation with seaborn heat map\n",
    "\n",
    "sns.heatmap(df.corr() , annot=True , annot_kws={'size':20})\n",
    "#plt.figure(figsize=(50,50))\n",
    "sns.set(font_scale=(3))\n",
    "sns.set(rc={'figure.figsize':(30,20)})\n",
    "plt.show()"
   ]
  },
  {
   "cell_type": "markdown",
   "id": "689db624",
   "metadata": {},
   "source": [
    "separate feature and target columns\n"
   ]
  },
  {
   "cell_type": "code",
   "execution_count": null,
   "id": "a8f5fb40",
   "metadata": {},
   "outputs": [],
   "source": [
    "X_check=df.drop('Selling_Price' , axis=1).values\n",
    "y_check=df['Selling_Price'].values"
   ]
  },
  {
   "cell_type": "code",
   "execution_count": null,
   "id": "1448057a",
   "metadata": {},
   "outputs": [],
   "source": []
  },
  {
   "cell_type": "code",
   "execution_count": null,
   "id": "5c160d28",
   "metadata": {},
   "outputs": [],
   "source": [
    "print(X_check.shape , y_check.shape)"
   ]
  },
  {
   "cell_type": "markdown",
   "id": "ff32172e",
   "metadata": {},
   "source": [
    "split train and test values"
   ]
  },
  {
   "cell_type": "code",
   "execution_count": null,
   "id": "48cd5267",
   "metadata": {},
   "outputs": [],
   "source": [
    "from sklearn.model_selection import train_test_split , KFold , GridSearchCV\n",
    "\n",
    "X_check_train , X_check_test , y_check_train ,y_check_test=train_test_split(X_check , y_check , test_size= 0.2 , random_state=3)"
   ]
  },
  {
   "cell_type": "code",
   "execution_count": null,
   "id": "2d4c4f5f",
   "metadata": {},
   "outputs": [],
   "source": [
    "print(f\"size train feature : {X_check_train.shape}  , size test feature :  {X_check_test.shape}   \\n size of train target : \\\n",
    "{y_check_train.shape}   ,   size of test target : {y_check_test.shape}\") "
   ]
  },
  {
   "cell_type": "code",
   "execution_count": null,
   "id": "7d66dd54",
   "metadata": {},
   "outputs": [],
   "source": [
    "from sklearn.linear_model import LinearRegression , Ridge , Lasso\n",
    "from sklearn.ensemble import RandomForestRegressor  , GradientBoostingRegressor\n",
    "from sklearn.tree import DecisionTreeRegressor\n",
    "from sklearn.model_selection import cross_val_score"
   ]
  },
  {
   "cell_type": "code",
   "execution_count": null,
   "id": "d90e2c30",
   "metadata": {},
   "outputs": [],
   "source": [
    "state=3\n",
    "result=[]\n",
    "models={'Linear Regression' : LinearRegression() , 'Ridge' : Ridge(alpha = 0.1) , \"lasso\" : Lasso(alpha = 0.1) ,\\\n",
    "        'Decision Tree Regressor': DecisionTreeRegressor(max_depth=2 , random_state=state), \\\n",
    "        'Random Forest Regrssor' : RandomForestRegressor(n_estimators=1000 , min_samples_leaf=0.2) ,\\\n",
    "        'Gradien Boosting Regressor' : GradientBoostingRegressor(subsample=0.8 , n_estimators= 100, max_depth=1, random_state=state)}\n",
    "\n",
    "for model in models.values():\n",
    "    print(model)\n",
    "    kf=KFold(n_splits=10 , random_state=state ,shuffle=True)\n",
    "    CV=cross_val_score(model , X_check_train , y_check_train , cv=kf)\n",
    "    print(CV)\n",
    "    result.append(CV)"
   ]
  },
  {
   "cell_type": "code",
   "execution_count": null,
   "id": "d8ed88db",
   "metadata": {},
   "outputs": [],
   "source": [
    "GBR=GradientBoostingRegressor(subsample=0.8 , n_estimators=500 , max_depth=1 , random_state=state)"
   ]
  },
  {
   "cell_type": "code",
   "execution_count": null,
   "id": "2ace7986",
   "metadata": {},
   "outputs": [],
   "source": [
    "GBR.fit(X_check_train ,y_check_train)"
   ]
  },
  {
   "cell_type": "code",
   "execution_count": null,
   "id": "db155cb7",
   "metadata": {},
   "outputs": [],
   "source": [
    "feature_importance= pd.Series(GBR.feature_importances_ , index=df.columns[1:])"
   ]
  },
  {
   "cell_type": "code",
   "execution_count": null,
   "id": "220dd6fc",
   "metadata": {},
   "outputs": [],
   "source": [
    "sorted_importance=feature_importance.sort_values(ascending =False)"
   ]
  },
  {
   "cell_type": "code",
   "execution_count": null,
   "id": "cd01f0d1",
   "metadata": {},
   "outputs": [],
   "source": [
    "sorted_importance.plot(kind='bar' , color='violet')\n",
    "sns.set(font_scale=(3))\n",
    "plt.show()"
   ]
  },
  {
   "cell_type": "markdown",
   "id": "8bd72168",
   "metadata": {},
   "source": [
    "1+2"
   ]
  },
  {
   "cell_type": "code",
   "execution_count": null,
   "id": "23382bce",
   "metadata": {},
   "outputs": [],
   "source": [
    "#we have only 7 Importance features so we will use the as train value\n",
    "X=df[['Present_Price' , 'Seller_Type_Individual','Seller_Type_Dealer','used_years','Kms_Driven','Fuel_Type_Diesel']].values\n",
    "y=df['Selling_Price'].values"
   ]
  },
  {
   "cell_type": "code",
   "execution_count": null,
   "id": "ed4b4af1",
   "metadata": {},
   "outputs": [],
   "source": [
    "X_train ,X_test , y_train ,y_test= train_test_split(X ,y ,test_size=0.2 , random_state=3)\n",
    "print(f\"size train feature : {X_train.shape}  , size test feature :  {X_test.shape}   \\n size of train target : \\\n",
    "{y_train.shape}   ,   size of test target : {y_test.shape}\") "
   ]
  },
  {
   "cell_type": "code",
   "execution_count": null,
   "id": "52406ea1",
   "metadata": {},
   "outputs": [],
   "source": [
    "from sklearn.preprocessing import StandardScaler\n",
    "scale=StandardScaler()"
   ]
  },
  {
   "cell_type": "code",
   "execution_count": null,
   "id": "86557966",
   "metadata": {},
   "outputs": [],
   "source": [
    "scaledX_train=scale.fit_transform(X_train)\n",
    "scaledX_test=scale.transform(X_test)"
   ]
  },
  {
   "cell_type": "code",
   "execution_count": null,
   "id": "7953dd41",
   "metadata": {},
   "outputs": [],
   "source": [
    "model=GradientBoostingRegressor(random_state=state)\n",
    "\n",
    "model.get_params()"
   ]
  },
  {
   "cell_type": "code",
   "execution_count": null,
   "id": "e6e4fae7",
   "metadata": {},
   "outputs": [],
   "source": [
    "parameters={'learning_rate' : np.linspace(0.2 , 1 , 5),\n",
    "            'n_estimators' :  [int(x) for x in np.linspace(100, 1500, 5)], \n",
    "            'subsample':np.linspace(0.4 , 1 ,4 ), \n",
    "            'min_samples_split': [int(x) for x in np.linspace(2,10,5)],  \n",
    "            'max_features' : ['auto' , 'sqrt' , 'log2'] , \n",
    "            'min_samples_leaf' :[1,2,3,4,5], \n",
    "            'max_depth' : [int(x) for x in np.linspace(1 , 5, 5)]}"
   ]
  },
  {
   "cell_type": "code",
   "execution_count": null,
   "id": "c866afb1",
   "metadata": {},
   "outputs": [],
   "source": []
  },
  {
   "cell_type": "code",
   "execution_count": null,
   "id": "832e1d92",
   "metadata": {},
   "outputs": [],
   "source": []
  },
  {
   "cell_type": "code",
   "execution_count": null,
   "id": "1c03ca97",
   "metadata": {},
   "outputs": [],
   "source": [
    "#importing Gradient search CV function to choice best model parameters\n",
    "from sklearn.model_selection import GridSearchCV"
   ]
  },
  {
   "cell_type": "code",
   "execution_count": null,
   "id": "47393272",
   "metadata": {},
   "outputs": [],
   "source": [
    "#fitted_model = model.fit(X_train ,y_train)\n",
    "kf=KFold(n_splits=10 , random_state=state ,shuffle=True)\n",
    "\n",
    "grid_model=GridSearchCV(estimator = model ,\n",
    "                        param_grid = parameters ,\n",
    "                        scoring = 'neg_mean_squared_error',\n",
    "                        cv=kf,\n",
    "                        n_jobs = -1)\n"
   ]
  },
  {
   "cell_type": "code",
   "execution_count": null,
   "id": "6f2cbb7c",
   "metadata": {},
   "outputs": [],
   "source": [
    "grid_model.fit(X_train , y_train)\n",
    "\n",
    "best_hyperparametrs= grid_model.best_params_\n",
    "\n",
    "best_score =grid_model.best_score_\n",
    "\n",
    "best_model = grid_model.best_estimator_\n",
    "\n",
    "best_index = grid_model.best_index_"
   ]
  },
  {
   "cell_type": "code",
   "execution_count": null,
   "id": "dc83917e",
   "metadata": {},
   "outputs": [],
   "source": [
    "best_score1"
   ]
  },
  {
   "cell_type": "code",
   "execution_count": null,
   "id": "8e2ca742",
   "metadata": {},
   "outputs": [],
   "source": [
    "print(best_model1)"
   ]
  },
  {
   "cell_type": "code",
   "execution_count": null,
   "id": "61c329ce",
   "metadata": {},
   "outputs": [],
   "source": [
    "best_model1.score(scaledX_test , y_test)"
   ]
  },
  {
   "cell_type": "markdown",
   "id": "7e139651",
   "metadata": {},
   "source": [
    "Model Tuning"
   ]
  },
  {
   "cell_type": "code",
   "execution_count": null,
   "id": "e5c3b40d",
   "metadata": {},
   "outputs": [],
   "source": [
    "best_hyperparametrs1 "
   ]
  },
  {
   "cell_type": "code",
   "execution_count": null,
   "id": "1297a305",
   "metadata": {},
   "outputs": [],
   "source": [
    "new_model=GradientBoostingRegressor()"
   ]
  },
  {
   "cell_type": "code",
   "execution_count": null,
   "id": "47d84b46",
   "metadata": {},
   "outputs": [],
   "source": []
  },
  {
   "cell_type": "code",
   "execution_count": null,
   "id": "502b2d6e",
   "metadata": {},
   "outputs": [],
   "source": [
    "mdl1=GradientBoostingRegressor()\n",
    "mdl1.fit(X_train , y_train)\n",
    "mdl1.predict(X_test)"
   ]
  },
  {
   "cell_type": "code",
   "execution_count": null,
   "id": "e40759d5",
   "metadata": {},
   "outputs": [],
   "source": [
    "mdl2=GradientBoostingRegressor(n_estimators=10000)\n",
    "mdl2.fit(X_train , y_train)\n",
    "mdl2.predict(X_test)"
   ]
  },
  {
   "cell_type": "code",
   "execution_count": null,
   "id": "17980614",
   "metadata": {},
   "outputs": [],
   "source": [
    "mdl=LinearRegression()"
   ]
  },
  {
   "cell_type": "code",
   "execution_count": null,
   "id": "c5fdfee7",
   "metadata": {},
   "outputs": [],
   "source": [
    "mdl.fit(X_train , y_train)\n",
    "mdl.predict(X_test)"
   ]
  },
  {
   "cell_type": "code",
   "execution_count": null,
   "id": "657fda89",
   "metadata": {},
   "outputs": [],
   "source": [
    "mdl1.score(X_test , y_test)"
   ]
  },
  {
   "cell_type": "code",
   "execution_count": null,
   "id": "3885f651",
   "metadata": {},
   "outputs": [],
   "source": [
    "from sklearn.metrics import mean_squared_error\n",
    "y_pred=best_model1.predict(X_test)\n",
    "MSE =mean_squared_error(y_test , y_pred)\n",
    "RMSE = np.sqrt(MSE)\n",
    "print(RMSE)"
   ]
  },
  {
   "cell_type": "code",
   "execution_count": null,
   "id": "2eed70b2",
   "metadata": {},
   "outputs": [],
   "source": [
    "from sklearn.metrics import mean_squared_error\n",
    "y_pred2=mdl2.predict(X_test)\n",
    "MSE2 =mean_squared_error(y_test , y_pred2)\n",
    "RMSE2 = np.sqrt(MSE2)\n",
    "print(RMSE2)"
   ]
  },
  {
   "cell_type": "code",
   "execution_count": null,
   "id": "06d93e0e",
   "metadata": {},
   "outputs": [],
   "source": [
    "def prediction(model):\n",
    "    user_input=[]\n",
    "    present_price=int(input(\"What is present Price in USD ?  \"))\n",
    "    user_input.append(present_price/1000)\n",
    "    seller_type=input(\"what is seller type ? \\n for Individual seller insert 'I' \\n for Deller seller insert 'D'\")\n",
    "    \n",
    "    if seller_type=='I' or seller_type=='i':\n",
    "        user_input.append(1)\n",
    "        user_input.append(0)\n",
    "    elif seller_type=='D' or seller_type=='d':\n",
    "        user_input.append(0)\n",
    "        user_input.append(1)\n",
    "        \n",
    "    manufacture_year=int(input('when it was manuactured the car ?  '))\n",
    "    selling_year = int( input('when do you want sell your car ? '))\n",
    "    user_input.append(selling_year - manufacture_year)\n",
    "    \n",
    "    Km_driven=int(input('enter total driven distance in kilometer :  '))\n",
    "    user_input.append(Km_driven)\n",
    "    diesel=input(\"is it Diesel ?  \\n 'y' or 'n'\")\n",
    "    \n",
    "    if diesel=='y':\n",
    "        user_input.append(1)\n",
    "    else:\n",
    "        user_input.append(0)\n",
    "        \n",
    "    selling_price=model.predict([np.array(user_input)])\n",
    "    print(f\"you will sell your car with = {1000*selling_price}\")\n",
    "    \n",
    "    \n",
    "    \n",
    "    \n",
    "    "
   ]
  },
  {
   "cell_type": "code",
   "execution_count": null,
   "id": "41091e47",
   "metadata": {},
   "outputs": [],
   "source": [
    "prdict = prediction(mdl1)"
   ]
  },
  {
   "cell_type": "code",
   "execution_count": null,
   "id": "042c3281",
   "metadata": {},
   "outputs": [],
   "source": []
  },
  {
   "cell_type": "code",
   "execution_count": null,
   "id": "fb2efdb4",
   "metadata": {},
   "outputs": [],
   "source": [
    "best_model1.predict([[9.9000e+00, 0.0000e+00, 1.0000e+00, 9.0000e+00, 5.6701e+04,\n",
    "       0.0000e+00]])"
   ]
  },
  {
   "cell_type": "code",
   "execution_count": null,
   "id": "f302e5a8",
   "metadata": {},
   "outputs": [],
   "source": [
    "(np.array([1,2,3,4,5,6])).shape"
   ]
  },
  {
   "cell_type": "code",
   "execution_count": null,
   "id": "547cba16",
   "metadata": {},
   "outputs": [],
   "source": [
    "list=[50000, 0, 1, 10, 23458, 1]\n",
    "arr = np.array(list)\n",
    "arr.reshape(1,1)"
   ]
  },
  {
   "cell_type": "code",
   "execution_count": null,
   "id": "a59da828",
   "metadata": {},
   "outputs": [],
   "source": []
  }
 ],
 "metadata": {
  "kernelspec": {
   "display_name": "Python 3",
   "language": "python",
   "name": "python3"
  },
  "language_info": {
   "codemirror_mode": {
    "name": "ipython",
    "version": 3
   },
   "file_extension": ".py",
   "mimetype": "text/x-python",
   "name": "python",
   "nbconvert_exporter": "python",
   "pygments_lexer": "ipython3",
   "version": "3.8.8"
  }
 },
 "nbformat": 4,
 "nbformat_minor": 5
}
